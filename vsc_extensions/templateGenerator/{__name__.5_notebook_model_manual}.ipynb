{
 "cells": [
  {
   "cell_type": "code",
   "execution_count": null,
   "metadata": {},
   "outputs": [],
   "source": [
    "%%capture --no-display\n",
    "# we are querying the datalake via AWS athena using the awswrangler library\n",
    "# %pip install awswrangler\n",
    "\n",
    "# auto load the updated external functions\n",
    "%load_ext autoreload\n",
    "%autoreload 2"
   ]
  },
  {
   "cell_type": "code",
   "execution_count": 2,
   "metadata": {},
   "outputs": [],
   "source": [
    "import numpy as np\n",
    "import pandas as pd\n",
    "import matplotlib.pyplot as plt\n",
    "# import sklearn\n",
    "# import torch\n",
    "\n",
    "from IPython.core.interactiveshell import InteractiveShell\n",
    "import warnings\n",
    "import os\n",
    "\n",
    "import awswrangler as wr\n",
    "import sagemaker\n",
    "\n",
    "DISPLAY_INFO = True\n",
    "warnings.filterwarnings('ignore')\n",
    "\n",
    "if DISPLAY_INFO:\n",
    "    InteractiveShell.ast_node_interactivity = \"all\" # display results in each line (for debugging)\n",
    "else:\n",
    "    InteractiveShell.ast_node_interactivity = \"none\" # no display\n",
    "    # InteractiveShell.ast_node_interactivity = \"last\" # (default) display results in the last line    "
   ]
  },
  {
   "cell_type": "code",
   "execution_count": null,
   "metadata": {},
   "outputs": [],
   "source": [
    "session = sagemaker.Session()"
   ]
  },
  {
   "cell_type": "code",
   "execution_count": null,
   "metadata": {},
   "outputs": [],
   "source": [
    "START_DATE = \"2023-05-10\"\n",
    "END_DATE = \"2023-05-11\""
   ]
  },
  {
   "cell_type": "code",
   "execution_count": null,
   "metadata": {},
   "outputs": [],
   "source": [
    "sql_query = f\"\"\"\n",
    "SELECT *\n",
    "FROM \n",
    "    datalake.jssdi.profile_snapshot\n",
    "    -- butterfly_prod.butterfly.rjptrainingv1_as10pct\n",
    "WHERE \n",
    "    day between '{START_DATE}' and '{END_DATE}'\n",
    "    AND cardinality(resumes)>0\n",
    "LIMIT 10\n",
    "\"\"\"\n",
    "\n",
    "print(sql_query)"
   ]
  },
  {
   "cell_type": "code",
   "execution_count": null,
   "metadata": {},
   "outputs": [],
   "source": [
    "# create a local database where queries can be run; you can find it under Glue in AWS Console\n",
    "wr.catalog.create_database(\"tgao_tmp\", exist_ok=True)\n",
    "\n",
    "# Run the query\n",
    "df = wr.athena.read_sql_query(sql_query, database=\"tgao_tmp\", ctas_approach=True)"
   ]
  },
  {
   "cell_type": "code",
   "execution_count": null,
   "metadata": {},
   "outputs": [],
   "source": [
    "df"
   ]
  }
 ],
 "metadata": {
  "kernelspec": {
   "display_name": "Python 3.9.12 ('base')",
   "language": "python",
   "name": "python3"
  },
  "language_info": {
   "name": "python",
   "version": "3.9.12"
  },
  "orig_nbformat": 4,
  "vscode": {
   "interpreter": {
    "hash": "83893ed8ab2f7255fca62e454031b1e5cdc52831ef9a8084c39c59e4ac6d9f46"
   }
  }
 },
 "nbformat": 4,
 "nbformat_minor": 2
}
